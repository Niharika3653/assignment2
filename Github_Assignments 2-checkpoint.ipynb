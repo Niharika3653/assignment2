{
 "cells": [
  {
   "cell_type": "markdown",
   "id": "df6c79d6",
   "metadata": {},
   "source": [
    "# Create a Function which can take any number of numerical arguments, calculate Arithmetic Mean, Geometric Mean and Harmonic Mean\n"
   ]
  },
  {
   "cell_type": "code",
   "execution_count": 1,
   "id": "240a2687",
   "metadata": {},
   "outputs": [],
   "source": [
    "def func(*n):\n",
    "    Arthemetic_mean=sum(n)/len(n)\n",
    "    print(\"Am\",Arthemetic_mean)\n",
    "    x=1\n",
    "    y=0\n",
    "    for i in n:\n",
    "        x*=i\n",
    "        y+=1/i\n",
    "    Geometric_mean=x**(1/len(n))\n",
    "    print(\"gm\",Geometric_mean)\n",
    "    y+=1/i\n",
    "    Harmonic_mean=len(n)/y\n",
    "    print(\"Hm -\",Harmonic_mean)"
   ]
  },
  {
   "cell_type": "code",
   "execution_count": 2,
   "id": "2948544e",
   "metadata": {},
   "outputs": [
    {
     "name": "stdout",
     "output_type": "stream",
     "text": [
      "Am 25.0\n",
      "gm 22.133638394006432\n",
      "Hm - 17.142857142857142\n"
     ]
    }
   ],
   "source": [
    "func(10,20,30,40)"
   ]
  },
  {
   "cell_type": "code",
   "execution_count": 3,
   "id": "de8a33dc",
   "metadata": {},
   "outputs": [],
   "source": [
    "def func(*n):\n",
    "    Arthemetic_mean=sum(n)/len(n)\n",
    "    print(\"Am\",Arthemetic_mean)\n",
    "    x=1\n",
    "    y=0\n",
    "    for i in n:\n",
    "        x*=i\n",
    "        y+=1/i\n",
    "    Geometric_mean=x**(1/len(n))\n",
    "    print(\"gm\",Geometric_mean)\n",
    "    try:\n",
    "        y+=1/i\n",
    "        Harmonic_mean=len(n)/y\n",
    "        print(\"Hm -\",Harmonic_mean)\n",
    "    except:\n",
    "        print(\"excpetion handling\")"
   ]
  },
  {
   "cell_type": "code",
   "execution_count": 4,
   "id": "ffbc6650",
   "metadata": {},
   "outputs": [
    {
     "name": "stdout",
     "output_type": "stream",
     "text": [
      "Am 25.0\n",
      "gm 22.133638394006432\n",
      "Hm - 17.142857142857142\n"
     ]
    }
   ],
   "source": [
    "func(10,20,30,40)"
   ]
  },
  {
   "cell_type": "code",
   "execution_count": null,
   "id": "4b47e219",
   "metadata": {},
   "outputs": [],
   "source": []
  }
 ],
 "metadata": {
  "kernelspec": {
   "display_name": "Python 3 (ipykernel)",
   "language": "python",
   "name": "python3"
  },
  "language_info": {
   "codemirror_mode": {
    "name": "ipython",
    "version": 3
   },
   "file_extension": ".py",
   "mimetype": "text/x-python",
   "name": "python",
   "nbconvert_exporter": "python",
   "pygments_lexer": "ipython3",
   "version": "3.10.9"
  }
 },
 "nbformat": 4,
 "nbformat_minor": 5
}
